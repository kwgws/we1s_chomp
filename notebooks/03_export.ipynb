{
 "cells": [
  {
   "cell_type": "markdown",
   "metadata": {},
   "source": [
    " # Export Articles (Optional)\n",
    "\n",
    " <h4>This notebook will export articles collected by the previous notebook\n",
    " to zip archives for storage and preprocessing.</h4>\n",
    "\n",
    "For more information and further instructions, consult the Chomp documentation at https://github.com/seangilleran/we1s_chomp."
   ]
  },
  {
   "cell_type": "markdown",
   "metadata": {},
   "source": [
    " ## INFO\n",
    " \n",
    "__authors__    = 'Catherine Gilleran'  \n",
    "__copyright__  = 'copyright 2019, The WE1S Project'  \n",
    "__license__    = 'MIT'  \n",
    "__version__    = '0.1.0'  \n",
   ]
  },
  {
   "cell_type": "markdown",
   "metadata": {},
   "source": [
    " ## SETTINGS"
   ]
  },
  {
   "cell_type": "code",
   "execution_count": null,
   "metadata": {},
   "outputs": [],
   "source": [
    "import json\n",
    "from pathlib import Path\n",
    "from zipfile import ZipFile\n",
    "\n",
    "\n",
    "project_dir = Path.home() / \"write\" / \"dev\" / \"we1s_chomp\"\n",
    "article_dir = project_dir / \"data\" / \"json\" / \"articles\"\n",
    "export_dir = project_dir / \"data\" / \"export\"\n",
    "\n",
    "# Make the export directory if it does not already exist.\n",
    "if not export_dir.exists():\n",
    "    export_dir.mkdir(parents=True)\n",
    "    \n",
    "print(f\"Loading articles from {article_dir}.\")\n",
    "print(f\"Exporting archives to {export_dir}.\\n\\n\")"
   ]
  },
  {
   "cell_type": "markdown",
   "metadata": {},
   "source": [
    " ## EXPORT"
   ]
  },
  {
   "cell_type": "code",
   "execution_count": null,
   "metadata": {},
   "outputs": [],
   "source": [
    "archives = {}\n",
    "\n",
    "for filename in article_dir.glob(\"**/*.json\"):\n",
    "    with open(filename, encoding=\"utf-8\") as jsonfile:\n",
    "        article = json.load(jsonfile)\n",
    "        articles.append(article)\n",
    "        \n",
    "        # Store \"no-exact-match\" articles in separate archives.\n",
    "        archive_name = article[\"query\"]\n",
    "        if \"no-exact-match\" in str(filename):\n",
    "            archive_name += \"(no-exact-match)\"\n",
    "        \n",
    "        if not archives.get(archive_name, None):\n",
    "            archives[archive_name] = []\n",
    "        archives[archive_name].append(article)\n",
    "\n",
    "for archive_name in archives:\n",
    "    archive_filename = export_dir / f\"{archive_name}.zip\"\n",
    "    print(f\"Creating archive {archive_filename}...\")\n",
    "    with ZipFile(archive_filename, \"w\") as zipfile:\n",
    "        for article in archives[archive_name]:\n",
    "            original_filename = article_dir / f'{article[\"name\"]}.json'\n",
    "            new_filename = f'{article[\"name\"]}.json'\n",
    "            zipfile.write(original_filename, new_filename)\n",
    "            print(f\"- {new_filename}\")\n",
    "    print(\"Done!\\n\\n\")\n",
    "print(\"\\n\\n----------Time----------\")"
   ]
  },
  {
   "cell_type": "markdown",
   "metadata": {},
   "source": [
    " ## SEE EXPORTED FILES"
   ]
  },
  {
   "cell_type": "code",
   "execution_count": null,
   "metadata": {},
   "outputs": [],
   "source": [
    "# TODO: link to dir"
   ]
  }
 ],
 "metadata": {
  "file_extension": ".py",
  "kernelspec": {
   "display_name": "Python 3",
   "language": "python",
   "name": "python3"
  },
  "language_info": {
   "codemirror_mode": {
    "name": "ipython",
    "version": 3
   },
   "file_extension": ".py",
   "mimetype": "text/x-python",
   "name": "python",
   "nbconvert_exporter": "python",
   "pygments_lexer": "ipython3",
   "version": "3.6.8"
  },
  "mimetype": "text/x-python",
  "name": "python",
  "npconvert_exporter": "python",
  "pygments_lexer": "ipython3",
  "version": 3
 },
 "nbformat": 4,
 "nbformat_minor": 2
}
